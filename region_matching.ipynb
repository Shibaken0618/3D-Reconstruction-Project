{
 "cells": [
  {
   "cell_type": "code",
   "execution_count": null,
   "metadata": {},
   "outputs": [],
   "source": [
    "import numpy as np\n",
    "from PIL import Image\n",
    "import time\n",
    "import matplotlib.pyplot as plt\n",
    "from process import Process\n",
    "import pandas as pd\n",
    "from scipy import stats\n"
   ]
  },
  {
   "cell_type": "code",
   "execution_count": null,
   "metadata": {},
   "outputs": [],
   "source": [
    "image_path_left = './data/images/im0.png'\n",
    "image_path_right = './data/images/im1.png'"
   ]
  },
  {
   "cell_type": "code",
   "execution_count": null,
   "metadata": {},
   "outputs": [],
   "source": [
    "imL = Process(image_path_left)\n",
    "imL.resize_image(371, 250)\n",
    "arrL = imL.get_array()\n",
    "imL.get_info()\n",
    "\n",
    "imR = Process(image_path_right)\n",
    "imR.resize_image(371, 250)\n",
    "arrR = imR.get_array()\n",
    "imR.get_info()"
   ]
  },
  {
   "cell_type": "code",
   "execution_count": null,
   "metadata": {},
   "outputs": [],
   "source": [
    "from scipy import ndimage\n",
    "\n",
    "# activate for laplacian filter\n",
    "arrL_filtered = ndimage.laplace(arrL)\n",
    "arrR_filtered = ndimage.laplace(arrR)\n",
    "\n",
    "array_left = arrL\n",
    "array_right = arrR"
   ]
  },
  {
   "cell_type": "code",
   "execution_count": null,
   "metadata": {
    "tags": [
     "outputPrepend",
     "outputPrepend",
     "outputPrepend",
     "outputPrepend",
     "outputPrepend",
     "outputPrepend",
     "outputPrepend",
     "outputPrepend",
     "outputPrepend",
     "outputPrepend",
     "outputPrepend",
     "outputPrepend",
     "outputPrepend"
    ]
   },
   "outputs": [],
   "source": [
    "\"\"\"\n",
    "Calculate Disparity using Sum of Absolute Differences Method (SAD)\n",
    "Region matching between windows in the left and right images using the SAD method. \n",
    "Modify 'size' and 'search_range' to alter results.\n",
    "\"\"\"\n",
    "\n",
    "size = 12\n",
    "\n",
    "search_range = 50\n",
    "\n",
    "start_time = time.time()\n",
    "\n",
    "disp_matrix = []\n",
    "\n",
    "for row in range(len(arrL_filtered) - size):\n",
    "\n",
    "    if row % 10 == 0:\n",
    "        print(f\"{row} rows completed.\")\n",
    "\n",
    "    disps = []\n",
    "\n",
    "    for col1 in range(len(arrL_filtered[row]) - size):\n",
    "        win1 = arrL_filtered[row:row + size, col1:col1 + size].flatten()\n",
    "\n",
    "        if col1 < search_range:\n",
    "            init = 0\n",
    "        else:\n",
    "            init = col1 - search_range\n",
    "\n",
    "        sads = []\n",
    "\n",
    "        for col2 in range(col1, init - 1, -1):\n",
    "            win2 = arrR_filtered[row:row + size, col2:col2 + size].flatten()\n",
    "\n",
    "            sad = np.sum(np.abs(np.subtract(win1, win2)))\n",
    "            sads.append(sad)\n",
    "\n",
    "        disparity = np.argmin(sads)\n",
    "        disps.append(disparity)\n",
    "\n",
    "    disp_matrix.append(disps)\n",
    "            \n",
    "        \n",
    "disp_matrix = np.array(disp_matrix)\n",
    "\n",
    "end_time = time.time()\n",
    "\n",
    "print(f\"Total runtime: {end_time - start_time}\")\n",
    "print(disp_matrix.shape)"
   ]
  },
  {
   "cell_type": "code",
   "execution_count": null,
   "metadata": {},
   "outputs": [],
   "source": [
    "\"\"\"\n",
    "Image Calibration\n",
    "\"\"\"\n",
    "\n",
    "z_matrix = np.copy(disp_matrix)\n",
    "baseline = 193.001\n",
    "f = 3979.911\n",
    "doffs = 124.343\n",
    "for i in np.nditer(z_matrix):\n",
    "    i = baseline * f / (i + doffs)\n",
    "\n",
    "z_matrix"
   ]
  },
  {
   "cell_type": "code",
   "execution_count": null,
   "metadata": {},
   "outputs": [],
   "source": [
    "plt.imshow(disp_matrix)\n",
    "plt.colorbar()"
   ]
  },
  {
   "cell_type": "code",
   "execution_count": null,
   "metadata": {},
   "outputs": [],
   "source": [
    "\"\"\"\n",
    "Post-processing\n",
    "\"\"\"\n",
    "import math\n",
    "\n",
    "raw_img = './data/images/im0.png'\n",
    "\n",
    "img = Image.open(raw_img)\n",
    "img = img.resize((disp_matrix.shape[1], disp_matrix.shape[0]))\n",
    "arr = np.array(img)\n",
    "\n",
    "xyzrgb = []\n",
    "\n",
    "avg_disp = np.copy(disp_matrix)\n",
    "\n",
    "avgList = []\n",
    "\n",
    "for x in range(disp_matrix.shape[1]): # 238\n",
    "    for y in range(disp_matrix.shape[0]): # 359\n",
    "\n",
    "        # MEAN\n",
    "        avg = np.mean(avg_disp[y-5:y+5, x-5:x+5])\n",
    "        if (math.isnan(avg) == False):\n",
    "            avgList.append(avg)\n",
    "        if avg_disp[y, x] - avg > 5:\n",
    "            avg_disp[y, x] = avg\n",
    "\n",
    "        # THRESHOLD\n",
    "        if avg_disp[y, x] > 34:\n",
    "            avg_disp[y, x] = 29\n",
    "\n",
    "        z = np.multiply(avg_disp[y, x], 6)\n",
    "        rgb = arr[y, x]\n",
    "        xyzrgb.append([x, y, z, rgb[0], rgb[1], rgb[2]])\n",
    "\n",
    "print(max(avgList))\n",
    "df = pd.DataFrame(xyzrgb)\n",
    "df.columns = ['x', 'y', 'z', 'r', 'g', 'b']\n",
    "df.to_csv('./data/output/point_cloud.txt', index=False)\n",
    "plt.imshow(avg_disp)\n",
    "plt.savefig('./data/output/disp_MPL.png')"
   ]
  }
 ],
 "metadata": {
  "file_extension": ".py",
  "kernelspec": {
   "display_name": "Python 3 (ipykernel)",
   "language": "python",
   "name": "python3"
  },
  "language_info": {
   "codemirror_mode": {
    "name": "ipython",
    "version": 3
   },
   "file_extension": ".py",
   "mimetype": "text/x-python",
   "name": "python",
   "nbconvert_exporter": "python",
   "pygments_lexer": "ipython3",
   "version": "3.8.18"
  },
  "mimetype": "text/x-python",
  "name": "python",
  "npconvert_exporter": "python",
  "pygments_lexer": "ipython3",
  "version": 3
 },
 "nbformat": 4,
 "nbformat_minor": 4
}
